{
 "cells": [
  {
   "cell_type": "code",
   "execution_count": null,
   "id": "1be34d7c-8318-4a58-af07-06d7674cdc54",
   "metadata": {},
   "outputs": [],
   "source": [
    "## from Gugger, S., & Howard, J. (2020). Deep Learning for Coders with Fastai and PyTorch: AI Applications Without a PhD. O’Reilly Media.\n",
    "from fastbook import *\n",
    "from fastai.vision.widgets import *\n",
    "import icrawler\n",
    "import lxml\n",
    "from icrawler.builtin import GoogleImageCrawler"
   ]
  },
  {
   "cell_type": "code",
   "execution_count": null,
   "id": "107f8c94-dfa0-4617-a018-0cf06991ba16",
   "metadata": {},
   "outputs": [],
   "source": [
    "#download data\n",
    "categories = \"cat\", \"Maine Coon\", \"random thing\"\n",
    "\n",
    "path = Path(\"images/cats\")\n",
    "\n",
    "#if not path.exists():\n",
    "#   path.mkdir()\n",
    "for o in categories:\n",
    "    dest = (path/o)\n",
    "    dest.mkdir(exist_ok=True)\n",
    "    google_crawler = GoogleImageCrawler(parser_threads=2, downloader_threads=4, storage={'root_dir': dest})\n",
    "    google_crawler.crawl(keyword=o, max_num=250)"
   ]
  },
  {
   "cell_type": "code",
   "execution_count": null,
   "id": "4a95ba14-d07b-4ff3-af93-9d370e4d7142",
   "metadata": {},
   "outputs": [],
   "source": []
  },
  {
   "cell_type": "code",
   "execution_count": null,
   "id": "63922123-cd53-41e4-91aa-1646d63e8545",
   "metadata": {},
   "outputs": [],
   "source": []
  },
  {
   "cell_type": "code",
   "execution_count": null,
   "id": "271d1103-6436-4238-a240-a53428d74494",
   "metadata": {},
   "outputs": [],
   "source": [
    "#refactor to prep for DataLoaders and \n",
    "#randomly crop photos between epochs so\n",
    "#\"our model can learn to focus on, and recognize, different features in our images.\"\n",
    "## - https://github.com/fastai/fastbook/blob/master/02_production.ipynb\n",
    "cats = DataBlock(\n",
    "    blocks=(ImageBlock, CategoryBlock), \n",
    "    get_items=get_image_files,\n",
    "    splitter=RandomSplitter(valid_pct=0.2, seed=42),\n",
    "    get_y=parent_label,\n",
    "    item_tfms=Resize(224))\n",
    "cats = cats.new(item_tfms=RandomResizedCrop(224, min_scale=0.3), batch_tfms=aug_transforms())\n",
    "\n",
    "#load and show some data from DataBlock object\n",
    "dls = cats.dataloaders(path)\n",
    "dls.train.show_batch(max_n=8, nrows=1, unique=True)"
   ]
  },
  {
   "cell_type": "code",
   "execution_count": null,
   "id": "807f8dab-4ca5-4ce3-8895-63a52cf6cdfa",
   "metadata": {},
   "outputs": [],
   "source": []
  },
  {
   "cell_type": "code",
   "execution_count": null,
   "id": "8c1e9532-68b6-4761-840d-2dd2064e2afd",
   "metadata": {},
   "outputs": [],
   "source": [
    "## The desired output of this model is to determine whether or not an image is of a cat who we call Katja.\n",
    "### some issues, misunderstandings and concerns i have with this model are:\n",
    "#### Initially i wanted to train the model on images of Katja\n",
    "##### against a single, nonKatja category, whose set might've consisted of a number\n",
    "##### of different cat photos and of photos which weren't cats.\n",
    "##### Not sure how this would've compared to the current setup of four categories.\n",
    "#### I suppose I also wanted this model to determine if an image was of a nonCat in addition to nonKatja.\n",
    "##### Not sure how effective it is at this.\n",
    "#### This is model is inherently biased toward labeling Katja as a Maine Coon.\n",
    "#### My apologies for being non-scientific. Working with data like this is very new to me."
   ]
  },
  {
   "cell_type": "code",
   "execution_count": null,
   "id": "eb4a64b7-fada-47be-a819-0e4d34eadf55",
   "metadata": {},
   "outputs": [],
   "source": [
    "#train the model\n",
    "learn = vision_learner(dls, resnet18, metrics=error_rate)\n",
    "learn.fine_tune(4)"
   ]
  },
  {
   "cell_type": "code",
   "execution_count": null,
   "id": "c8a0126b-bab4-4905-b620-2b0db3c6837e",
   "metadata": {},
   "outputs": [],
   "source": []
  },
  {
   "cell_type": "code",
   "execution_count": null,
   "id": "4c5dd209-1a94-497b-8f42-24ed7d3e90c9",
   "metadata": {},
   "outputs": [],
   "source": []
  },
  {
   "cell_type": "code",
   "execution_count": null,
   "id": "0a9de742-ad79-49d7-b00a-e54deb9c6fc4",
   "metadata": {},
   "outputs": [],
   "source": [
    "### some interpretation"
   ]
  },
  {
   "cell_type": "code",
   "execution_count": null,
   "id": "6dbabb0b-e9db-47fb-9336-e1547f606370",
   "metadata": {},
   "outputs": [],
   "source": [
    "interp = ClassificationInterpretation.from_learner(learn)\n",
    "interp.plot_confusion_matrix()"
   ]
  },
  {
   "cell_type": "code",
   "execution_count": null,
   "id": "df3f74e2-6cc9-436c-bca4-d1ba7ed3898f",
   "metadata": {},
   "outputs": [],
   "source": [
    "interp.plot_top_losses(5, nrows=1)"
   ]
  },
  {
   "cell_type": "code",
   "execution_count": null,
   "id": "6af74062-5269-493c-a2d4-f18da7cc294d",
   "metadata": {
    "scrolled": true
   },
   "outputs": [],
   "source": [
    "cleaner = ImageClassifierCleaner(learn)\n",
    "cleaner"
   ]
  },
  {
   "cell_type": "code",
   "execution_count": null,
   "id": "9330d516-cbb7-469c-a2ad-e97f353f5b62",
   "metadata": {},
   "outputs": [],
   "source": [
    "#get pickle (.pkl) file\n",
    "learn.export()"
   ]
  },
  {
   "cell_type": "code",
   "execution_count": null,
   "id": "72ea403f-760e-40b3-9526-8a162d518a63",
   "metadata": {},
   "outputs": [],
   "source": []
  },
  {
   "cell_type": "code",
   "execution_count": null,
   "id": "2ca796a0-7cd7-40cf-900e-176ca4f61eb2",
   "metadata": {},
   "outputs": [],
   "source": []
  },
  {
   "cell_type": "code",
   "execution_count": null,
   "id": "f76661cb-3b19-4806-8ff3-a8bd0991be0b",
   "metadata": {},
   "outputs": [],
   "source": [
    "### some prediction"
   ]
  },
  {
   "cell_type": "code",
   "execution_count": null,
   "id": "18db9b64-d3b8-4191-a9c3-48f09996fee0",
   "metadata": {},
   "outputs": [],
   "source": [
    "path = Path()\n",
    "print(path)\n",
    "path.ls(file_exts='.pkl')"
   ]
  },
  {
   "cell_type": "code",
   "execution_count": null,
   "id": "91558d01-f881-4e36-8270-344e674ceca2",
   "metadata": {},
   "outputs": [],
   "source": [
    "learn_inf = load_learner(path/'export.pkl')"
   ]
  },
  {
   "cell_type": "code",
   "execution_count": null,
   "id": "9894f058-4adf-4dfb-bb84-42a561d4a2f8",
   "metadata": {},
   "outputs": [],
   "source": [
    "import requests\n",
    "img_data = requests.get(\"https://wallup.net/wp-content/uploads/2016/01/180325-animals-fox.jpg\").content\n",
    "with open('images/image_name.jpg', 'wb') as handler:\n",
    "    handler.write(img_data)\n"
   ]
  },
  {
   "cell_type": "code",
   "execution_count": null,
   "id": "944a341e-8023-4688-bca3-40726577a1a5",
   "metadata": {},
   "outputs": [],
   "source": [
    "learn_inf.predict('images/image_name.jpg')"
   ]
  },
  {
   "cell_type": "code",
   "execution_count": null,
   "id": "c6745452-29ad-478a-a10c-b800c815b378",
   "metadata": {},
   "outputs": [],
   "source": [
    "learn_inf.predict('images/predictKatja/IMG_0159.JPEG')"
   ]
  },
  {
   "cell_type": "code",
   "execution_count": null,
   "id": "e206da69-d4fe-4ee7-9d03-fd93a984bf8e",
   "metadata": {},
   "outputs": [],
   "source": [
    "learn_inf.predict('images/random_thing.jpg')"
   ]
  },
  {
   "cell_type": "code",
   "execution_count": null,
   "id": "c331491a-bac1-4012-a976-6d36b9b1755d",
   "metadata": {},
   "outputs": [],
   "source": []
  }
 ],
 "metadata": {
  "kernelspec": {
   "display_name": "Python 3 (ipykernel)",
   "language": "python",
   "name": "python3"
  },
  "language_info": {
   "codemirror_mode": {
    "name": "ipython",
    "version": 3
   },
   "file_extension": ".py",
   "mimetype": "text/x-python",
   "name": "python",
   "nbconvert_exporter": "python",
   "pygments_lexer": "ipython3",
   "version": "3.10.12"
  }
 },
 "nbformat": 4,
 "nbformat_minor": 5
}
